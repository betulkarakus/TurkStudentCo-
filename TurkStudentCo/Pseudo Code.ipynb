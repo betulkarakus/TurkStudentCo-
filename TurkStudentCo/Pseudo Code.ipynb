{
 "cells": [
  {
   "cell_type": "markdown",
   "metadata": {},
   "source": [
    "# Pseudo Code Study"
   ]
  },
  {
   "cell_type": "markdown",
   "metadata": {},
   "source": [
    "### Question 1 (Level: Simple)"
   ]
  },
  {
   "cell_type": "markdown",
   "metadata": {},
   "source": [
    "Write the pseudo code of a program that takes two numbers from the user and adds them together."
   ]
  },
  {
   "cell_type": "markdown",
   "metadata": {},
   "source": [
    "#### Answer 1:"
   ]
  },
  {
   "cell_type": "code",
   "execution_count": null,
   "metadata": {},
   "outputs": [],
   "source": [
    "# START\n",
    "#     PRINT \"Enter the first number:\"\n",
    "#     READ number1\n",
    "#     PRINT \"Enter the second number:\"\n",
    "#     READ number2\n",
    "#     sum = number1 + number2\n",
    "#     PRINT \"The sum of the two numbers is:\", sum\n",
    "# END"
   ]
  },
  {
   "cell_type": "code",
   "execution_count": 18,
   "metadata": {},
   "outputs": [
    {
     "name": "stdout",
     "output_type": "stream",
     "text": [
      "You entered: 6 and 2\n",
      "The sum of the two numbers is: 8\n"
     ]
    }
   ],
   "source": [
    "# Prompt the user for the first number\n",
    "number1 = int(input(\"Enter the first number: \"))\n",
    "\n",
    "# Prompt the user for the second number\n",
    "number2 = int(input(\"Enter the second number: \"))\n",
    "\n",
    "# Calculate the sum of the two numbers\n",
    "sum = number1 + number2\n",
    "\n",
    "# Print the numbers and their sum\n",
    "print(\"You entered:\", number1, \"and\", number2)\n",
    "print(\"The sum of the two numbers is:\", sum)"
   ]
  },
  {
   "cell_type": "markdown",
   "metadata": {},
   "source": [
    "### Question 2 (Level: Medium)"
   ]
  },
  {
   "cell_type": "markdown",
   "metadata": {},
   "source": [
    " Write the pseudo code of a program that adds numbers from 1 to 100."
   ]
  },
  {
   "cell_type": "markdown",
   "metadata": {},
   "source": [
    "#### Answer 2:"
   ]
  },
  {
   "cell_type": "code",
   "execution_count": null,
   "metadata": {},
   "outputs": [],
   "source": [
    "# START\n",
    "#     sum = 0\n",
    "#     FOR number from 1 to 100 DO\n",
    "#         sum = sum + number\n",
    "#     END FOR\n",
    "#     PRINT \"The sum of numbers from 1 to 100 is:\", sum\n",
    "# END"
   ]
  },
  {
   "cell_type": "code",
   "execution_count": 15,
   "metadata": {},
   "outputs": [
    {
     "name": "stdout",
     "output_type": "stream",
     "text": [
      "The sum of numbers from 1 to 100 is: 5050\n"
     ]
    }
   ],
   "source": [
    "# Initialize the sum variable\n",
    "sum = 0\n",
    "\n",
    "# Iterate through numbers from 1 to 100\n",
    "for number in range(1, 101):\n",
    "    sum += number\n",
    "\n",
    "# Print the result\n",
    "print(\"The sum of numbers from 1 to 100 is:\", sum)\n"
   ]
  },
  {
   "cell_type": "markdown",
   "metadata": {},
   "source": [
    "### Question 3 (Level: Advanced)"
   ]
  },
  {
   "cell_type": "markdown",
   "metadata": {},
   "source": [
    "Write the pseudo code of a program that finds whether a number received from a user is prime or not."
   ]
  },
  {
   "cell_type": "markdown",
   "metadata": {},
   "source": [
    "#### Answer 3:"
   ]
  },
  {
   "cell_type": "code",
   "execution_count": 10,
   "metadata": {},
   "outputs": [],
   "source": [
    "# START\n",
    "#     PRINT \"Enter a number:\"\n",
    "#     READ number\n",
    "\n",
    "#     IF number <= 1 THEN\n",
    "#         PRINT \"The number is not prime.\"\n",
    "#     ELSE IF number == 2 THEN\n",
    "#         PRINT \"The number is prime.\"\n",
    "#     ELSE IF number % 2 == 0 THEN\n",
    "#         PRINT \"The number is not prime.\"\n",
    "#     ELSE\n",
    "#         isPrime = True\n",
    "#         FOR i from 3 to sqrt(number) DO\n",
    "#             IF number % i == 0 THEN\n",
    "#                 isPrime = False\n",
    "#                 BREAK\n",
    "#             END IF\n",
    "#             i = i + 2  # Check only odd numbers\n",
    "#         END FOR\n",
    "        \n",
    "#         IF isPrime == True THEN\n",
    "#             PRINT \"The number is prime.\"\n",
    "#         ELSE\n",
    "#             PRINT \"The number is not prime.\"\n",
    "#         END IF\n",
    "#     END IF\n",
    "# END"
   ]
  },
  {
   "cell_type": "code",
   "execution_count": 14,
   "metadata": {},
   "outputs": [
    {
     "name": "stdout",
     "output_type": "stream",
     "text": [
      "The number 43 is prime.\n"
     ]
    }
   ],
   "source": [
    "import math\n",
    "\n",
    "# Get a number from the user\n",
    "number = int(input(\"Enter a number: \"))\n",
    "\n",
    "# Check if the number is prime\n",
    "if number <= 1:\n",
    "    print(f\"The number {number} is not prime.\")\n",
    "elif number == 2:\n",
    "    print(f\"The number {number} is prime.\")\n",
    "elif number % 2 == 0:\n",
    "    print(f\"The number {number} is not prime.\")\n",
    "else:\n",
    "    is_prime = True\n",
    "    for i in range(3, int(math.sqrt(number)) + 1, 2):\n",
    "        if number % i == 0:\n",
    "            is_prime = False\n",
    "            break\n",
    "    \n",
    "    if is_prime:\n",
    "        print(f\"The number {number} is prime.\")\n",
    "    else:\n",
    "        print(f\"The number {number} is not prime.\")"
   ]
  },
  {
   "cell_type": "markdown",
   "metadata": {},
   "source": [
    "### Question 4 (Level: Difficult)"
   ]
  },
  {
   "cell_type": "markdown",
   "metadata": {},
   "source": [
    "Write the pseudo code of a program that checks an array for duplicates."
   ]
  },
  {
   "cell_type": "markdown",
   "metadata": {},
   "source": [
    "#### Answer 4:"
   ]
  },
  {
   "cell_type": "code",
   "execution_count": 11,
   "metadata": {},
   "outputs": [],
   "source": [
    "# START\n",
    "#     PRINT \"Enter the size of the array:\"\n",
    "#     READ size\n",
    "    \n",
    "#     DECLARE array[size]\n",
    "    \n",
    "#     PRINT \"Enter the elements of the array:\"\n",
    "#     FOR i from 0 to size - 1 DO\n",
    "#         READ array[i]\n",
    "#     END FOR\n",
    "    \n",
    "#     duplicatesFound = False\n",
    "    \n",
    "#     FOR i from 0 to size - 2 DO\n",
    "#         FOR j from i + 1 to size - 1 DO\n",
    "#             IF array[i] == array[j] THEN\n",
    "#                 duplicatesFound = True\n",
    "#                 PRINT \"Duplicate found:\", array[i]\n",
    "#                 BREAK\n",
    "#             END IF\n",
    "#         END FOR\n",
    "#         IF duplicatesFound == True THEN\n",
    "#             BREAK\n",
    "#         END IF\n",
    "#     END FOR\n",
    "    \n",
    "#     IF duplicatesFound == False THEN\n",
    "#         PRINT \"No duplicates found.\"\n",
    "#     END IF\n",
    "# END"
   ]
  },
  {
   "cell_type": "code",
   "execution_count": 13,
   "metadata": {},
   "outputs": [
    {
     "name": "stdout",
     "output_type": "stream",
     "text": [
      "Enter the elements of the array:\n",
      "Array size: 4\n",
      "Array elements: [1, 2, 3, 3]\n",
      "Duplicate found: 3\n"
     ]
    }
   ],
   "source": [
    "# Get the size of the array from the user\n",
    "size = int(input(\"Enter the size of the array: \"))\n",
    "\n",
    "# Initialize the array\n",
    "array = []\n",
    "\n",
    "# Get the elements of the array from the user\n",
    "print(\"Enter the elements of the array:\")\n",
    "for i in range(size):\n",
    "    element = int(input())\n",
    "    array.append(element)\n",
    "\n",
    "# Print the size and elements of the array\n",
    "print(f\"Array size: {size}\")\n",
    "print(\"Array elements:\", array)\n",
    "\n",
    "# Check for duplicates\n",
    "duplicates_found = False\n",
    "\n",
    "for i in range(size - 1):\n",
    "    for j in range(i + 1, size):\n",
    "        if array[i] == array[j]:\n",
    "            duplicates_found = True\n",
    "            print(\"Duplicate found:\", array[i])\n",
    "            break\n",
    "    if duplicates_found:\n",
    "        break\n",
    "\n",
    "if not duplicates_found:\n",
    "    print(\"No duplicates found.\")"
   ]
  }
 ],
 "metadata": {
  "kernelspec": {
   "display_name": "Python 3",
   "language": "python",
   "name": "python3"
  },
  "language_info": {
   "codemirror_mode": {
    "name": "ipython",
    "version": 3
   },
   "file_extension": ".py",
   "mimetype": "text/x-python",
   "name": "python",
   "nbconvert_exporter": "python",
   "pygments_lexer": "ipython3",
   "version": "3.11.1"
  }
 },
 "nbformat": 4,
 "nbformat_minor": 2
}
